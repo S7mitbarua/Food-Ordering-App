{
  "nbformat": 4,
  "nbformat_minor": 0,
  "metadata": {
    "colab": {
      "provenance": [],
      "authorship_tag": "ABX9TyPK4oIkchHADfpw3AgKoq3b",
      "include_colab_link": true
    },
    "kernelspec": {
      "name": "python3",
      "display_name": "Python 3"
    },
    "language_info": {
      "name": "python"
    }
  },
  "cells": [
    {
      "cell_type": "markdown",
      "metadata": {
        "id": "view-in-github",
        "colab_type": "text"
      },
      "source": [
        "<a href=\"https://colab.research.google.com/github/S7mitbarua/Food-Ordering-App/blob/main/food_ordering_application.ipynb\" target=\"_parent\"><img src=\"https://colab.research.google.com/assets/colab-badge.svg\" alt=\"Open In Colab\"/></a>"
      ]
    },
    {
      "cell_type": "code",
      "execution_count": 2,
      "metadata": {
        "id": "RKi1gZzh6H5E"
      },
      "outputs": [],
      "source": [
        "#Step 1: Set up the menu\n",
        "#Create a dictionary to store the menu items and their prices.\n",
        "menu = {\n",
        "    '1': {'item': 'Pizza', 'price': 10.99},\n",
        "    '2': {'item': 'Burger', 'price': 6.99},\n",
        "    '3': {'item': 'Pasta', 'price': 8.99},\n",
        "    '4': {'item': 'Chicken Sandwich', 'price': 6.99},\n",
        "    '5': {'item': 'Salad', 'price': 4.99},\n",
        "    '6': {'item': 'Ice Cream', 'price': 3.50},\n",
        "    '7': {'item': 'Steak', 'price': 14.99},\n",
        "    '8': {'item': 'Soup', 'price': 3.49},\n",
        "    # Add more items as needed\n",
        "}\n"
      ]
    },
    {
      "cell_type": "code",
      "source": [
        "#Step 2: Create a function to display the menu\n",
        "def display_menu():\n",
        "    print(\"Menu:\")\n",
        "    for key, item in menu.items():\n",
        "        print(f\"{key}. {item['item']} - ${item['price']:.2f}\")\n"
      ],
      "metadata": {
        "id": "GQH0bPa18n-i"
      },
      "execution_count": 3,
      "outputs": []
    },
    {
      "cell_type": "code",
      "source": [
        "#Step 3: Create a function to take orders from the user\n",
        "def take_order():\n",
        "    order = {}\n",
        "    while True:\n",
        "        choice = input(\"Enter the item number you want to order (press 'q' to quit): \")\n",
        "        if choice.lower() == 'q':\n",
        "            break\n",
        "        if choice in menu:\n",
        "            quantity = int(input(\"Enter the quantity: \"))\n",
        "            order[menu[choice]['item']] = quantity\n",
        "        else:\n",
        "            print(\"Invalid choice. Please try again.\")\n",
        "    return order"
      ],
      "metadata": {
        "id": "xUx_L2tW80l2"
      },
      "execution_count": 4,
      "outputs": []
    },
    {
      "cell_type": "code",
      "source": [
        "#Step 4: Create a function to calculate the total order amount\n",
        "def calculate_total(order):\n",
        "    total = 0\n",
        "    for item, quantity in order.items():\n",
        "        total += menu[str([key for key, value in menu.items() if value['item'] == item][0])]['price'] * quantity\n",
        "    return total"
      ],
      "metadata": {
        "id": "iWU_ZhWx8_na"
      },
      "execution_count": 5,
      "outputs": []
    },
    {
      "cell_type": "code",
      "source": [
        "#Step 5: Create the main function to run the application\n",
        "def main():\n",
        "    print(\"Welcome to the Food Ordering Application!\")\n",
        "    display_menu()\n",
        "    order = take_order()\n",
        "    total_amount = calculate_total(order)\n",
        "\n",
        "    print(\"\\nYour Order:\")\n",
        "    for item, quantity in order.items():\n",
        "        print(f\"{item} x {quantity}\")\n",
        "\n",
        "    print(f\"\\nTotal Amount: ${total_amount:.2f}\")\n",
        "\n",
        "if __name__ == \"__main__\":\n",
        "    main()"
      ],
      "metadata": {
        "colab": {
          "base_uri": "https://localhost:8080/"
        },
        "id": "p8HAp18s9Iaw",
        "outputId": "887cc0a3-ba2d-4e98-89e7-a8dae60e2fb9"
      },
      "execution_count": 6,
      "outputs": [
        {
          "output_type": "stream",
          "name": "stdout",
          "text": [
            "Welcome to the Food Ordering Application!\n",
            "Menu:\n",
            "1. Pizza - $10.99\n",
            "2. Burger - $6.99\n",
            "3. Pasta - $8.99\n",
            "4. Chicken Sandwich - $6.99\n",
            "5. Salad - $4.99\n",
            "6. Ice Cream - $3.50\n",
            "7. Steak - $14.99\n",
            "8. Soup - $3.49\n",
            "Enter the item number you want to order (press 'q' to quit): q\n",
            "\n",
            "Your Order:\n",
            "\n",
            "Total Amount: $0.00\n"
          ]
        }
      ]
    },
    {
      "cell_type": "code",
      "source": [
        "#Step 6: Run the main function\n",
        "main()"
      ],
      "metadata": {
        "colab": {
          "base_uri": "https://localhost:8080/"
        },
        "id": "muZHt9oz9U2V",
        "outputId": "166e8593-c216-444c-bfe4-6c73a48e0501"
      },
      "execution_count": 7,
      "outputs": [
        {
          "output_type": "stream",
          "name": "stdout",
          "text": [
            "Welcome to the Food Ordering Application!\n",
            "Menu:\n",
            "1. Pizza - $10.99\n",
            "2. Burger - $6.99\n",
            "3. Pasta - $8.99\n",
            "4. Chicken Sandwich - $6.99\n",
            "5. Salad - $4.99\n",
            "6. Ice Cream - $3.50\n",
            "7. Steak - $14.99\n",
            "8. Soup - $3.49\n",
            "Enter the item number you want to order (press 'q' to quit): 1\n",
            "Enter the quantity: 1\n",
            "Enter the item number you want to order (press 'q' to quit): 6\n",
            "Enter the quantity: 1\n",
            "Enter the item number you want to order (press 'q' to quit): q\n",
            "\n",
            "Your Order:\n",
            "Pizza x 1\n",
            "Ice Cream x 1\n",
            "\n",
            "Total Amount: $14.49\n"
          ]
        }
      ]
    },
    {
      "cell_type": "code",
      "source": [],
      "metadata": {
        "id": "gt0J2FMx9zn0"
      },
      "execution_count": null,
      "outputs": []
    }
  ]
}